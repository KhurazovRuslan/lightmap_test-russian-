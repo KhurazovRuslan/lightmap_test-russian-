{
 "cells": [
  {
   "cell_type": "code",
   "execution_count": 1,
   "metadata": {},
   "outputs": [],
   "source": [
    "# imports\n",
    "import warnings\n",
    "warnings.filterwarnings('ignore')\n",
    "import numpy as np\n",
    "import pandas as pd\n",
    "import matplotlib.pyplot as plt\n",
    "from lightmap_funcs import *\n",
    "%matplotlib inline \n",
    "from statsmodels.stats.proportion import proportions_ztest\n",
    "from statsmodels.tsa.api import SimpleExpSmoothing"
   ]
  },
  {
   "cell_type": "markdown",
   "metadata": {},
   "source": [
    "## Задание 1"
   ]
  },
  {
   "cell_type": "markdown",
   "metadata": {},
   "source": [
    "В специальной лотерее игрок выбирает 5 разных чисел из возможных 30. В этот же день случайным образом определяется победная комбинация из 7 разных чисел (из того же набора). Игрок считается победителем в случае, если совпадают любые 4 числа в выбранном им наборе и в победной комбинации. "
   ]
  },
  {
   "cell_type": "markdown",
   "metadata": {},
   "source": [
    "Какова вероятность выигрыша?"
   ]
  },
  {
   "cell_type": "code",
   "execution_count": null,
   "metadata": {},
   "outputs": [],
   "source": []
  },
  {
   "cell_type": "markdown",
   "metadata": {},
   "source": [
    "Игрок выбирает 5 разных чисел из 30: вероятность этой комбинации - $\\frac{5}{30}$. Победная комбинация - 7 разных чисел из того же набора 30 чисел, но победой считается только вариант, когда 4 числа из выпавших 7 совпадают с 4 числами из выбранных игроком. Т.е. вероятность выбрать одно из ненужных чисел - $\\frac{26}{30}$ (и 7 вариантов размещения). Получается, что вероятность победной комбинации: $\\frac{5}{30} \\cdot\\ (\\frac{7\\cdot26}{30} \\cdot (\\frac{1}{30})^4)$"
   ]
  },
  {
   "cell_type": "code",
   "execution_count": 2,
   "metadata": {},
   "outputs": [
    {
     "name": "stdout",
     "output_type": "stream",
     "text": [
      "Вероятность победы в лотерее: 0.000125%\n"
     ]
    }
   ],
   "source": [
    "win = 5/30 * 7*26/30 * (1/30)**4\n",
    "print(f'Вероятность победы в лотерее: {round(win*100, 6)}%')"
   ]
  },
  {
   "cell_type": "code",
   "execution_count": null,
   "metadata": {},
   "outputs": [],
   "source": []
  },
  {
   "cell_type": "markdown",
   "metadata": {},
   "source": [
    "### Задание 2"
   ]
  },
  {
   "cell_type": "markdown",
   "metadata": {},
   "source": [
    "В файле \"Lightmap. Тестовое задание №2.csv\" построчно приведены записи событий установки приложения (install) и начала сессии (login). В столбце player_id указан уникальный id пользователя, в столбце event_timestamp - время события (unix timestamp UTC). \n",
    "\n",
    "Удержание первого дня определяется как доля уникальных пользователей, отправивших событие login на следующий календарный день, среди всех пользователей, отправивших событие install в текущий календарный день. Например, если 1 сентября 100 пользователей скачали приложение, и 50 из них совершили логин 2 сентября, удержание первого дня для 1 сентября составляет 50%.\n",
    "\n",
    "Удержание первого дня для периода дат определяется как отношение общего числа уникальных пользователей, вернувшихся в приложение на следующий день после дня установки, к общему числу уникальных пользователей, совершивших установку в рамках заданного периода дат."
   ]
  },
  {
   "cell_type": "markdown",
   "metadata": {},
   "source": [
    "Например, если 2 сентября 200 пользователей скачали приложение, и 75 из них совершили логин 3 сентября, удержание первого дня за период 1-2 сентября составляет: (50 + 75) / (100 + 200) ≈ 42%"
   ]
  },
  {
   "cell_type": "markdown",
   "metadata": {},
   "source": [
    "Можно ли с уверенностью утверждать, что удержание первого дня за период с 15 по 18 сентября выше, чем удержание первого дня за период с 19 по 22 сентября? И почему?"
   ]
  },
  {
   "cell_type": "code",
   "execution_count": null,
   "metadata": {},
   "outputs": [],
   "source": []
  },
  {
   "cell_type": "code",
   "execution_count": 3,
   "metadata": {},
   "outputs": [],
   "source": [
    "# data\n",
    "task2 = pd.read_csv('lightmap2.csv')"
   ]
  },
  {
   "cell_type": "code",
   "execution_count": 4,
   "metadata": {},
   "outputs": [
    {
     "name": "stdout",
     "output_type": "stream",
     "text": [
      "<class 'pandas.core.frame.DataFrame'>\n",
      "RangeIndex: 52543 entries, 0 to 52542\n",
      "Data columns (total 3 columns):\n",
      " #   Column           Non-Null Count  Dtype \n",
      "---  ------           --------------  ----- \n",
      " 0   player_id        52543 non-null  int64 \n",
      " 1   event_timestamp  52543 non-null  int64 \n",
      " 2   event_name       52543 non-null  object\n",
      "dtypes: int64(2), object(1)\n",
      "memory usage: 1.2+ MB\n"
     ]
    }
   ],
   "source": [
    "task2.info()"
   ]
  },
  {
   "cell_type": "code",
   "execution_count": 5,
   "metadata": {},
   "outputs": [
    {
     "data": {
      "text/html": [
       "<div>\n",
       "<style scoped>\n",
       "    .dataframe tbody tr th:only-of-type {\n",
       "        vertical-align: middle;\n",
       "    }\n",
       "\n",
       "    .dataframe tbody tr th {\n",
       "        vertical-align: top;\n",
       "    }\n",
       "\n",
       "    .dataframe thead th {\n",
       "        text-align: right;\n",
       "    }\n",
       "</style>\n",
       "<table border=\"1\" class=\"dataframe\">\n",
       "  <thead>\n",
       "    <tr style=\"text-align: right;\">\n",
       "      <th></th>\n",
       "      <th>player_id</th>\n",
       "      <th>event_timestamp</th>\n",
       "      <th>event_name</th>\n",
       "    </tr>\n",
       "  </thead>\n",
       "  <tbody>\n",
       "    <tr>\n",
       "      <th>0</th>\n",
       "      <td>1058930</td>\n",
       "      <td>1632265733</td>\n",
       "      <td>install</td>\n",
       "    </tr>\n",
       "    <tr>\n",
       "      <th>1</th>\n",
       "      <td>1055681</td>\n",
       "      <td>1632412526</td>\n",
       "      <td>login</td>\n",
       "    </tr>\n",
       "    <tr>\n",
       "      <th>2</th>\n",
       "      <td>1057784</td>\n",
       "      <td>1632411775</td>\n",
       "      <td>login</td>\n",
       "    </tr>\n",
       "    <tr>\n",
       "      <th>3</th>\n",
       "      <td>1015250</td>\n",
       "      <td>1631923078</td>\n",
       "      <td>login</td>\n",
       "    </tr>\n",
       "    <tr>\n",
       "      <th>4</th>\n",
       "      <td>1040648</td>\n",
       "      <td>1631670785</td>\n",
       "      <td>login</td>\n",
       "    </tr>\n",
       "  </tbody>\n",
       "</table>\n",
       "</div>"
      ],
      "text/plain": [
       "   player_id  event_timestamp event_name\n",
       "0    1058930       1632265733    install\n",
       "1    1055681       1632412526      login\n",
       "2    1057784       1632411775      login\n",
       "3    1015250       1631923078      login\n",
       "4    1040648       1631670785      login"
      ]
     },
     "execution_count": 5,
     "metadata": {},
     "output_type": "execute_result"
    }
   ],
   "source": [
    "task2.head()"
   ]
  },
  {
   "cell_type": "markdown",
   "metadata": {},
   "source": [
    "Имеем данные в 3 колонки и 52543 строки. Все колонки и строки заполнены, пропущенных нет. Стоит сразу изменить отображение времени события, чтобы было удобнее его считывать. Затем сгруппировать данные по дате и найти общее количество событий install в день, количество событий login на следующий день и удержание первого дня по дням."
   ]
  },
  {
   "cell_type": "code",
   "execution_count": 6,
   "metadata": {},
   "outputs": [
    {
     "data": {
      "text/html": [
       "<div>\n",
       "<style scoped>\n",
       "    .dataframe tbody tr th:only-of-type {\n",
       "        vertical-align: middle;\n",
       "    }\n",
       "\n",
       "    .dataframe tbody tr th {\n",
       "        vertical-align: top;\n",
       "    }\n",
       "\n",
       "    .dataframe thead th {\n",
       "        text-align: right;\n",
       "    }\n",
       "</style>\n",
       "<table border=\"1\" class=\"dataframe\">\n",
       "  <thead>\n",
       "    <tr style=\"text-align: right;\">\n",
       "      <th></th>\n",
       "      <th>num_installs</th>\n",
       "      <th>next_day_logins</th>\n",
       "      <th>d1_retention (%)</th>\n",
       "    </tr>\n",
       "    <tr>\n",
       "      <th>event_timestamp</th>\n",
       "      <th></th>\n",
       "      <th></th>\n",
       "      <th></th>\n",
       "    </tr>\n",
       "  </thead>\n",
       "  <tbody>\n",
       "    <tr>\n",
       "      <th>2021-09-15</th>\n",
       "      <td>1327</td>\n",
       "      <td>932.0</td>\n",
       "      <td>70.0</td>\n",
       "    </tr>\n",
       "    <tr>\n",
       "      <th>2021-09-16</th>\n",
       "      <td>1284</td>\n",
       "      <td>899.0</td>\n",
       "      <td>70.0</td>\n",
       "    </tr>\n",
       "    <tr>\n",
       "      <th>2021-09-17</th>\n",
       "      <td>1483</td>\n",
       "      <td>1052.0</td>\n",
       "      <td>71.0</td>\n",
       "    </tr>\n",
       "    <tr>\n",
       "      <th>2021-09-18</th>\n",
       "      <td>1779</td>\n",
       "      <td>1211.0</td>\n",
       "      <td>68.0</td>\n",
       "    </tr>\n",
       "    <tr>\n",
       "      <th>2021-09-19</th>\n",
       "      <td>1674</td>\n",
       "      <td>1033.0</td>\n",
       "      <td>62.0</td>\n",
       "    </tr>\n",
       "    <tr>\n",
       "      <th>2021-09-20</th>\n",
       "      <td>1380</td>\n",
       "      <td>880.0</td>\n",
       "      <td>64.0</td>\n",
       "    </tr>\n",
       "    <tr>\n",
       "      <th>2021-09-21</th>\n",
       "      <td>2123</td>\n",
       "      <td>1091.0</td>\n",
       "      <td>51.0</td>\n",
       "    </tr>\n",
       "    <tr>\n",
       "      <th>2021-09-22</th>\n",
       "      <td>1343</td>\n",
       "      <td>704.0</td>\n",
       "      <td>52.0</td>\n",
       "    </tr>\n",
       "    <tr>\n",
       "      <th>2021-09-23</th>\n",
       "      <td>1509</td>\n",
       "      <td>NaN</td>\n",
       "      <td>NaN</td>\n",
       "    </tr>\n",
       "  </tbody>\n",
       "</table>\n",
       "</div>"
      ],
      "text/plain": [
       "                 num_installs  next_day_logins  d1_retention (%)\n",
       "event_timestamp                                                 \n",
       "2021-09-15               1327            932.0              70.0\n",
       "2021-09-16               1284            899.0              70.0\n",
       "2021-09-17               1483           1052.0              71.0\n",
       "2021-09-18               1779           1211.0              68.0\n",
       "2021-09-19               1674           1033.0              62.0\n",
       "2021-09-20               1380            880.0              64.0\n",
       "2021-09-21               2123           1091.0              51.0\n",
       "2021-09-22               1343            704.0              52.0\n",
       "2021-09-23               1509              NaN               NaN"
      ]
     },
     "execution_count": 6,
     "metadata": {},
     "output_type": "execute_result"
    }
   ],
   "source": [
    "cohorts = d1_retention(task2)\n",
    "cohorts"
   ]
  },
  {
   "cell_type": "markdown",
   "metadata": {},
   "source": [
    "Сразу видно, что 21 сентября, на который пришелся пик скачиваний, было самое низкое удержание первого дня, 51%. 71%, пик удержания первого дня за наблюдаемый период пришелся на 17 сентября. Построим графики для наглядности."
   ]
  },
  {
   "cell_type": "code",
   "execution_count": 7,
   "metadata": {},
   "outputs": [
    {
     "data": {
      "image/png": "[encoded data removed]",
      "text/plain": [
       "<Figure size 720x432 with 1 Axes>"
      ]
     },
     "metadata": {
      "needs_background": "light"
     },
     "output_type": "display_data"
    }
   ],
   "source": [
    "plot_lines([cohorts.index,cohorts.index],[cohorts['num_installs'],cohorts['next_day_logins']],\n",
    "          ['Кол-во событий install','Кол-во событий login на след. день'],['g-','b-'],['o','s']);"
   ]
  },
  {
   "cell_type": "code",
   "execution_count": 8,
   "metadata": {},
   "outputs": [
    {
     "data": {
      "image/png": "[encoded data removed]",
      "text/plain": [
       "<Figure size 720x432 with 1 Axes>"
      ]
     },
     "metadata": {
      "needs_background": "light"
     },
     "output_type": "display_data"
    }
   ],
   "source": [
    "plot_lines([cohorts.index],[cohorts['d1_retention (%)']],['Удержание 1ого дня по дням (%)'],\n",
    "          ['r-'],['p']);"
   ]
  },
  {
   "cell_type": "code",
   "execution_count": 9,
   "metadata": {},
   "outputs": [
    {
     "name": "stdout",
     "output_type": "stream",
     "text": [
      "Удержание первого дня за период с 15 по 18 сентября: 70%\n",
      "Удержание первого дня за период с 19 по 22 сентября: 57%\n"
     ]
    }
   ],
   "source": [
    "first_period = round(sum(cohorts[:4]['next_day_logins'])/sum(cohorts[:4]['num_installs'])*100)\n",
    "second_period = round(sum(cohorts[4:-1]['next_day_logins'])/sum(cohorts[4:-1]['num_installs'])*100)\n",
    "print(f'Удержание первого дня за период с 15 по 18 сентября: {first_period}%')\n",
    "print(f'Удержание первого дня за период с 19 по 22 сентября: {second_period}%')"
   ]
  },
  {
   "cell_type": "markdown",
   "metadata": {},
   "source": [
    "В абсолютных цифрах 70 > 57 и получается, что удержание первого дня для интервала с 15 по 18 сентября выше чем с 19 по 22 сентября. Но можно ли утверждать это с уверенностью?  "
   ]
  },
  {
   "cell_type": "markdown",
   "metadata": {},
   "source": [
    "Предположим, что это было проведено А/B тестирование и необходимо выяснить изменится ли удержание первого дня у контрольной группы. Нулевая гипотеза - удержание первого дня не изменится, альтернативная - удержание первого дня изменится. Уровень уверенности 95%. Посчитаем p-значение для контрольной и альтернативной групп. Если оно ниже 0.05, то альтернативная теория подтверждена, если выше - нулевая гипотеза подтверждена. В нашем случае p-значение ниже нуля будет означать значимый результат."
   ]
  },
  {
   "cell_type": "code",
   "execution_count": 10,
   "metadata": {},
   "outputs": [
    {
     "data": {
      "text/plain": [
       "0.0"
      ]
     },
     "execution_count": 10,
     "metadata": {},
     "output_type": "execute_result"
    }
   ],
   "source": [
    "z_stat, pval = proportions_ztest(count=[4094,3708], nobs=[5873,6520])\n",
    "round(pval,3)"
   ]
  },
  {
   "cell_type": "markdown",
   "metadata": {},
   "source": [
    "P-значение стремится к 0, результат значимый. Мы можем с уверенностью утверждать, что удержание первого дня для интервала с 19 по 22 сентября изменится по сравнению с удержанием первого дня за отрезок с 15 по 18 сентября. В данном случае эта метрика уменьшилась."
   ]
  },
  {
   "cell_type": "code",
   "execution_count": null,
   "metadata": {},
   "outputs": [],
   "source": []
  },
  {
   "cell_type": "markdown",
   "metadata": {},
   "source": [
    "## Task 3"
   ]
  },
  {
   "cell_type": "markdown",
   "metadata": {},
   "source": [
    "В файле \"Lightmap. Тестовое задание №3.csv\" построчно приведены записи транзакций, совершенных в приложении когортой пользователей. В столбце event_timestamp указано время транзакции (unix timestamp UTC), в столбце registration_timestamp - дата регистрации пользователя, в столбце inapp_size - размер соответствующего платежа (сумма $)."
   ]
  },
  {
   "cell_type": "markdown",
   "metadata": {},
   "source": [
    "Требуется построить кривую накопительной суммы платежей когорты по дням с момента регистрации (один день - одна точка на кривой). На основании полученных данных построить и отобразить в виде другой кривой на том же графике прогноз значений накопительной суммы для дней жизни с 90 по 180."
   ]
  },
  {
   "cell_type": "code",
   "execution_count": 11,
   "metadata": {},
   "outputs": [],
   "source": [
    "task3 = pd.read_csv('lightmap3.csv')"
   ]
  },
  {
   "cell_type": "code",
   "execution_count": 12,
   "metadata": {},
   "outputs": [
    {
     "data": {
      "text/html": [
       "<div>\n",
       "<style scoped>\n",
       "    .dataframe tbody tr th:only-of-type {\n",
       "        vertical-align: middle;\n",
       "    }\n",
       "\n",
       "    .dataframe tbody tr th {\n",
       "        vertical-align: top;\n",
       "    }\n",
       "\n",
       "    .dataframe thead th {\n",
       "        text-align: right;\n",
       "    }\n",
       "</style>\n",
       "<table border=\"1\" class=\"dataframe\">\n",
       "  <thead>\n",
       "    <tr style=\"text-align: right;\">\n",
       "      <th></th>\n",
       "      <th>event_timestamp</th>\n",
       "      <th>registration_timestamp</th>\n",
       "      <th>inapp_size</th>\n",
       "    </tr>\n",
       "  </thead>\n",
       "  <tbody>\n",
       "    <tr>\n",
       "      <th>0</th>\n",
       "      <td>1611154038</td>\n",
       "      <td>1610971359</td>\n",
       "      <td>5</td>\n",
       "    </tr>\n",
       "    <tr>\n",
       "      <th>1</th>\n",
       "      <td>1611759898</td>\n",
       "      <td>1610972522</td>\n",
       "      <td>3</td>\n",
       "    </tr>\n",
       "    <tr>\n",
       "      <th>2</th>\n",
       "      <td>1611057594</td>\n",
       "      <td>1610974545</td>\n",
       "      <td>5</td>\n",
       "    </tr>\n",
       "    <tr>\n",
       "      <th>3</th>\n",
       "      <td>1611562555</td>\n",
       "      <td>1610976251</td>\n",
       "      <td>3</td>\n",
       "    </tr>\n",
       "    <tr>\n",
       "      <th>4</th>\n",
       "      <td>1611082290</td>\n",
       "      <td>1610976461</td>\n",
       "      <td>3</td>\n",
       "    </tr>\n",
       "  </tbody>\n",
       "</table>\n",
       "</div>"
      ],
      "text/plain": [
       "   event_timestamp  registration_timestamp  inapp_size\n",
       "0       1611154038              1610971359           5\n",
       "1       1611759898              1610972522           3\n",
       "2       1611057594              1610974545           5\n",
       "3       1611562555              1610976251           3\n",
       "4       1611082290              1610976461           3"
      ]
     },
     "execution_count": 12,
     "metadata": {},
     "output_type": "execute_result"
    }
   ],
   "source": [
    "task3.head()"
   ]
  },
  {
   "cell_type": "code",
   "execution_count": 13,
   "metadata": {},
   "outputs": [
    {
     "name": "stdout",
     "output_type": "stream",
     "text": [
      "<class 'pandas.core.frame.DataFrame'>\n",
      "RangeIndex: 11577 entries, 0 to 11576\n",
      "Data columns (total 3 columns):\n",
      " #   Column                  Non-Null Count  Dtype\n",
      "---  ------                  --------------  -----\n",
      " 0   event_timestamp         11577 non-null  int64\n",
      " 1   registration_timestamp  11577 non-null  int64\n",
      " 2   inapp_size              11577 non-null  int64\n",
      "dtypes: int64(3)\n",
      "memory usage: 271.5 KB\n"
     ]
    }
   ],
   "source": [
    "task3.info()"
   ]
  },
  {
   "cell_type": "markdown",
   "metadata": {},
   "source": [
    "Данные в виде 3 колонок и 11577 строк. Пропусков нет. Колонку со временем события трансформируем, чтобы были читаемы даты."
   ]
  },
  {
   "cell_type": "code",
   "execution_count": 14,
   "metadata": {},
   "outputs": [
    {
     "data": {
      "text/html": [
       "<div>\n",
       "<style scoped>\n",
       "    .dataframe tbody tr th:only-of-type {\n",
       "        vertical-align: middle;\n",
       "    }\n",
       "\n",
       "    .dataframe tbody tr th {\n",
       "        vertical-align: top;\n",
       "    }\n",
       "\n",
       "    .dataframe thead th {\n",
       "        text-align: right;\n",
       "    }\n",
       "</style>\n",
       "<table border=\"1\" class=\"dataframe\">\n",
       "  <thead>\n",
       "    <tr style=\"text-align: right;\">\n",
       "      <th></th>\n",
       "      <th>event_timestamp</th>\n",
       "      <th>registration_timestamp</th>\n",
       "      <th>inapp_size</th>\n",
       "    </tr>\n",
       "  </thead>\n",
       "  <tbody>\n",
       "    <tr>\n",
       "      <th>0</th>\n",
       "      <td>2021-01-20 14:47:18</td>\n",
       "      <td>2021-01-18 12:02:39</td>\n",
       "      <td>5</td>\n",
       "    </tr>\n",
       "    <tr>\n",
       "      <th>1</th>\n",
       "      <td>2021-01-27 15:04:58</td>\n",
       "      <td>2021-01-18 12:22:02</td>\n",
       "      <td>3</td>\n",
       "    </tr>\n",
       "    <tr>\n",
       "      <th>2</th>\n",
       "      <td>2021-01-19 11:59:54</td>\n",
       "      <td>2021-01-18 12:55:45</td>\n",
       "      <td>5</td>\n",
       "    </tr>\n",
       "    <tr>\n",
       "      <th>3</th>\n",
       "      <td>2021-01-25 08:15:55</td>\n",
       "      <td>2021-01-18 13:24:11</td>\n",
       "      <td>3</td>\n",
       "    </tr>\n",
       "    <tr>\n",
       "      <th>4</th>\n",
       "      <td>2021-01-19 18:51:30</td>\n",
       "      <td>2021-01-18 13:27:41</td>\n",
       "      <td>3</td>\n",
       "    </tr>\n",
       "  </tbody>\n",
       "</table>\n",
       "</div>"
      ],
      "text/plain": [
       "      event_timestamp registration_timestamp  inapp_size\n",
       "0 2021-01-20 14:47:18    2021-01-18 12:02:39           5\n",
       "1 2021-01-27 15:04:58    2021-01-18 12:22:02           3\n",
       "2 2021-01-19 11:59:54    2021-01-18 12:55:45           5\n",
       "3 2021-01-25 08:15:55    2021-01-18 13:24:11           3\n",
       "4 2021-01-19 18:51:30    2021-01-18 13:27:41           3"
      ]
     },
     "execution_count": 14,
     "metadata": {},
     "output_type": "execute_result"
    }
   ],
   "source": [
    "task3 = unix_to_date(task3,['event_timestamp','registration_timestamp'])\n",
    "task3.head()"
   ]
  },
  {
   "cell_type": "markdown",
   "metadata": {},
   "source": [
    "Добавим колонку с количеством дней между регистрацией пользователя и транзакцией."
   ]
  },
  {
   "cell_type": "code",
   "execution_count": 15,
   "metadata": {},
   "outputs": [
    {
     "data": {
      "text/html": [
       "<div>\n",
       "<style scoped>\n",
       "    .dataframe tbody tr th:only-of-type {\n",
       "        vertical-align: middle;\n",
       "    }\n",
       "\n",
       "    .dataframe tbody tr th {\n",
       "        vertical-align: top;\n",
       "    }\n",
       "\n",
       "    .dataframe thead th {\n",
       "        text-align: right;\n",
       "    }\n",
       "</style>\n",
       "<table border=\"1\" class=\"dataframe\">\n",
       "  <thead>\n",
       "    <tr style=\"text-align: right;\">\n",
       "      <th></th>\n",
       "      <th>event_timestamp</th>\n",
       "      <th>registration_timestamp</th>\n",
       "      <th>inapp_size</th>\n",
       "      <th>delta</th>\n",
       "    </tr>\n",
       "  </thead>\n",
       "  <tbody>\n",
       "    <tr>\n",
       "      <th>0</th>\n",
       "      <td>2021-01-20 14:47:18</td>\n",
       "      <td>2021-01-18 12:02:39</td>\n",
       "      <td>5</td>\n",
       "      <td>2</td>\n",
       "    </tr>\n",
       "    <tr>\n",
       "      <th>1</th>\n",
       "      <td>2021-01-27 15:04:58</td>\n",
       "      <td>2021-01-18 12:22:02</td>\n",
       "      <td>3</td>\n",
       "      <td>9</td>\n",
       "    </tr>\n",
       "    <tr>\n",
       "      <th>2</th>\n",
       "      <td>2021-01-19 11:59:54</td>\n",
       "      <td>2021-01-18 12:55:45</td>\n",
       "      <td>5</td>\n",
       "      <td>0</td>\n",
       "    </tr>\n",
       "    <tr>\n",
       "      <th>3</th>\n",
       "      <td>2021-01-25 08:15:55</td>\n",
       "      <td>2021-01-18 13:24:11</td>\n",
       "      <td>3</td>\n",
       "      <td>6</td>\n",
       "    </tr>\n",
       "    <tr>\n",
       "      <th>4</th>\n",
       "      <td>2021-01-19 18:51:30</td>\n",
       "      <td>2021-01-18 13:27:41</td>\n",
       "      <td>3</td>\n",
       "      <td>1</td>\n",
       "    </tr>\n",
       "  </tbody>\n",
       "</table>\n",
       "</div>"
      ],
      "text/plain": [
       "      event_timestamp registration_timestamp  inapp_size  delta\n",
       "0 2021-01-20 14:47:18    2021-01-18 12:02:39           5      2\n",
       "1 2021-01-27 15:04:58    2021-01-18 12:22:02           3      9\n",
       "2 2021-01-19 11:59:54    2021-01-18 12:55:45           5      0\n",
       "3 2021-01-25 08:15:55    2021-01-18 13:24:11           3      6\n",
       "4 2021-01-19 18:51:30    2021-01-18 13:27:41           3      1"
      ]
     },
     "execution_count": 15,
     "metadata": {},
     "output_type": "execute_result"
    }
   ],
   "source": [
    "task3['delta'] = (task3['event_timestamp']-task3['registration_timestamp']).dt.days\n",
    "task3.head()"
   ]
  },
  {
   "cell_type": "markdown",
   "metadata": {},
   "source": [
    "Сгруппирем данные по дням, прошедшим между регистрацией и транзакцией, посчитаем общую и накопительные суммы по дня для когорты пользователей."
   ]
  },
  {
   "cell_type": "code",
   "execution_count": 16,
   "metadata": {},
   "outputs": [
    {
     "data": {
      "text/html": [
       "<div>\n",
       "<style scoped>\n",
       "    .dataframe tbody tr th:only-of-type {\n",
       "        vertical-align: middle;\n",
       "    }\n",
       "\n",
       "    .dataframe tbody tr th {\n",
       "        vertical-align: top;\n",
       "    }\n",
       "\n",
       "    .dataframe thead th {\n",
       "        text-align: right;\n",
       "    }\n",
       "</style>\n",
       "<table border=\"1\" class=\"dataframe\">\n",
       "  <thead>\n",
       "    <tr style=\"text-align: right;\">\n",
       "      <th></th>\n",
       "      <th>revenue_day</th>\n",
       "      <th>cum_revenue</th>\n",
       "    </tr>\n",
       "    <tr>\n",
       "      <th>delta</th>\n",
       "      <th></th>\n",
       "      <th></th>\n",
       "    </tr>\n",
       "  </thead>\n",
       "  <tbody>\n",
       "    <tr>\n",
       "      <th>0</th>\n",
       "      <td>22612</td>\n",
       "      <td>22612</td>\n",
       "    </tr>\n",
       "    <tr>\n",
       "      <th>1</th>\n",
       "      <td>5256</td>\n",
       "      <td>27868</td>\n",
       "    </tr>\n",
       "    <tr>\n",
       "      <th>2</th>\n",
       "      <td>3519</td>\n",
       "      <td>31387</td>\n",
       "    </tr>\n",
       "    <tr>\n",
       "      <th>3</th>\n",
       "      <td>3644</td>\n",
       "      <td>35031</td>\n",
       "    </tr>\n",
       "    <tr>\n",
       "      <th>4</th>\n",
       "      <td>2613</td>\n",
       "      <td>37644</td>\n",
       "    </tr>\n",
       "  </tbody>\n",
       "</table>\n",
       "</div>"
      ],
      "text/plain": [
       "       revenue_day  cum_revenue\n",
       "delta                          \n",
       "0            22612        22612\n",
       "1             5256        27868\n",
       "2             3519        31387\n",
       "3             3644        35031\n",
       "4             2613        37644"
      ]
     },
     "execution_count": 16,
     "metadata": {},
     "output_type": "execute_result"
    }
   ],
   "source": [
    "revenues = task3.groupby('delta')['inapp_size'].agg(['sum'])\n",
    "revenues.columns = ['revenue_day']\n",
    "revenues['cum_revenue'] = revenues['revenue_day'].cumsum()\n",
    "revenues.head()"
   ]
  },
  {
   "cell_type": "markdown",
   "metadata": {},
   "source": [
    "Колонка с накопительной суммой платежей когорты по дням с момента регистрации ('cum_revenue') будет отображена на графике. Также на графике будет отбрежно два прогноза на дни с 90 по 180: основанный на ариметической средней и экспоненциальном сглаживании (взвешенное среднее, где последние данные имеют более высокий вес)."
   ]
  },
  {
   "cell_type": "code",
   "execution_count": 17,
   "metadata": {},
   "outputs": [],
   "source": [
    "# простая арифметическая средняя\n",
    "\n",
    "# средняя сумма платежей в день за известные дни\n",
    "avg_per_day = round(revenues['revenue_day'].mean())\n",
    "\n",
    "# предполагаемые суммы платежей на дни с 90 по 180\n",
    "revenues_90_180 = [avg_per_day]*90\n",
    "\n",
    "# предполагаемые накопительные суммы платежей на дни с 90 по 180\n",
    "cum_revenues_90_180 = revenues_90_180 \n",
    "cum_revenues_90_180[0] = revenues['cum_revenue'][89] + avg_per_day\n",
    "cum_revenues_90_180 = np.cumsum(cum_revenues_90_180)"
   ]
  },
  {
   "cell_type": "code",
   "execution_count": 18,
   "metadata": {},
   "outputs": [],
   "source": [
    "# экспоненциальное сглаживание\n",
    "\n",
    "# подготовка модели для расчетов\n",
    "model = SimpleExpSmoothing(np.asarray(revenues['revenue_day'])).fit()\n",
    "\n",
    "# предполагаемые суммы платежей с 90 по 180 день по дням\n",
    "exp_rev_90_180 = model.forecast(90)\n",
    "\n",
    "# накопительная сумма платежей на 90й день\n",
    "exp_cum_rev_90_180 = exp_rev_90_180\n",
    "exp_cum_rev_90_180[0] = revenues['cum_revenue'][89] + exp_rev_90_180[0]\n",
    "\n",
    "# накопительные суммы платежей с 90 по 180 день\n",
    "exp_cum_rev_90_180 = exp_cum_rev_90_180.cumsum()"
   ]
  },
  {
   "cell_type": "code",
   "execution_count": 19,
   "metadata": {},
   "outputs": [
    {
     "data": {
      "image/png": "[encoded data removed]",
      "text/plain": [
       "<Figure size 1152x432 with 1 Axes>"
      ]
     },
     "metadata": {
      "needs_background": "light"
     },
     "output_type": "display_data"
    }
   ],
   "source": [
    "plot_lines([revenues.index,range(90,180),range(90,180)],\n",
    "          [revenues['cum_revenue'],cum_revenues_90_180,exp_cum_rev_90_180],\n",
    "          ['Накопительная сумма платежей по дням','Прогноз на ариф. средней','Прогноз по экспонен. сглаживанию'],\n",
    "          ['b-','r-','g-'],['.','+','|'],(16,6),False);"
   ]
  },
  {
   "cell_type": "markdown",
   "metadata": {},
   "source": [
    "Прогноз, сделанный с помощью экспоненциального сгаживания, выглядит более реалистично, т.к. в какой то момент в будущем накопительная сумма платежей от пользователей перестанет увеличиваться, а график перейдет в горизонтальную линию."
   ]
  },
  {
   "cell_type": "code",
   "execution_count": null,
   "metadata": {},
   "outputs": [],
   "source": []
  }
 ],
 "metadata": {
  "kernelspec": {
   "display_name": "Python 3",
   "language": "python",
   "name": "python3"
  },
  "language_info": {
   "codemirror_mode": {
    "name": "ipython",
    "version": 3
   },
   "file_extension": ".py",
   "mimetype": "text/x-python",
   "name": "python",
   "nbconvert_exporter": "python",
   "pygments_lexer": "ipython3",
   "version": "3.7.8"
  }
 },
 "nbformat": 4,
 "nbformat_minor": 4
}
